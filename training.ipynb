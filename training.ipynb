{
 "cells": [
  {
   "cell_type": "code",
   "execution_count": null,
   "metadata": {},
   "outputs": [],
   "source": [
    "%matplotlib inline\n",
    "import numpy as np\n",
    "import matplotlib.pyplot as plt\n",
    "import torch\n",
    "\n",
    "from IPython.display import clear_output\n",
    "\n",
    "from growing_ca.core.trainer import CaTrainer\n",
    "from growing_ca.core.utils_vis import to_rgb"
   ]
  },
  {
   "cell_type": "code",
   "execution_count": null,
   "metadata": {},
   "outputs": [],
   "source": [
    "def visualize_batch(vis0, vis1):\n",
    "    \"\"\"Visualize a batch of CA states before and after training steps.\"\"\"\n",
    "    print(\"batch (before/after):\")\n",
    "    plt.figure(figsize=[15, 5])\n",
    "    for i in range(vis0.shape[0]):\n",
    "        plt.subplot(2, vis0.shape[0], i + 1)\n",
    "        plt.imshow(vis0[i])\n",
    "        plt.axis(\"off\")\n",
    "    for i in range(vis0.shape[0]):\n",
    "        plt.subplot(2, vis0.shape[0], i + 1 + vis0.shape[0])\n",
    "        plt.imshow(vis1[i])\n",
    "        plt.axis(\"off\")\n",
    "    plt.show()\n",
    "\n",
    "\n",
    "def plot_loss(loss_log):\n",
    "    \"\"\"Plot the loss history on a log10 scale.\"\"\"\n",
    "    plt.figure(figsize=(10, 4))\n",
    "    plt.title(\"Loss history (log10)\")\n",
    "    plt.plot(np.log10(loss_log), \".\", alpha=0.1)\n",
    "    plt.show()"
   ]
  },
  {
   "cell_type": "code",
   "execution_count": null,
   "metadata": {},
   "outputs": [],
   "source": [
    "# Training configuration\n",
    "device = torch.device(\n",
    "    torch.cuda.current_device() if torch.cuda.is_available() else \"cpu\"\n",
    ")\n",
    "\n",
    "TARGET_EMOJI = 2  # Emoji index to train on\n",
    "EXPERIMENT_TYPE = \"Regenerating\"  # Options: \"Growing\", \"Persistent\", \"Regenerating\"\n",
    "n_epoch = 8000  # Number of training epochs\n",
    "\n",
    "# Initialize the trainer with configuration\n",
    "trainer = CaTrainer(\n",
    "    target_emoji_index=TARGET_EMOJI,\n",
    "    emoji_path=\"data/emoji.png\",\n",
    "    model_path=f\"models/emoji_{TARGET_EMOJI}.pth\",\n",
    "    experiment_type=EXPERIMENT_TYPE,\n",
    "    device=device,\n",
    "    channel_n=16,\n",
    "    target_padding=16,\n",
    "    lr=2e-3,\n",
    "    lr_gamma=0.9999,\n",
    "    betas=(0.5, 0.5),\n",
    "    batch_size=8,\n",
    "    pool_size=1024,\n",
    "    cell_fire_rate=0.5,\n",
    ")\n",
    "\n",
    "print(f\"Trainer initialized for emoji {TARGET_EMOJI}\")\n",
    "print(f\"Experiment type: {EXPERIMENT_TYPE}\")\n",
    "print(f\"Device: {device}\")"
   ]
  },
  {
   "cell_type": "code",
   "execution_count": null,
   "metadata": {},
   "outputs": [],
   "source": [
    "# Visualize the target emoji\n",
    "target_img = trainer.load_emoji(TARGET_EMOJI)\n",
    "plt.figure(figsize=(4, 4))\n",
    "plt.title(f\"Target Emoji (index {TARGET_EMOJI})\")\n",
    "plt.imshow(to_rgb(target_img))\n",
    "plt.axis(\"off\")\n",
    "plt.show()"
   ]
  },
  {
   "cell_type": "code",
   "execution_count": null,
   "metadata": {},
   "outputs": [],
   "source": [
    "# Training loop with visualization\n",
    "loss_log = []\n",
    "\n",
    "print(f\"Starting training for {n_epoch} epochs...\")\n",
    "\n",
    "for i in range(n_epoch + 1):\n",
    "    # Get batch\n",
    "    x0, batch = trainer.get_batch()\n",
    "\n",
    "    # Train for random number of steps\n",
    "    steps = np.random.randint(64, 96)\n",
    "    x, loss = trainer.train_step(x0, trainer.pad_target, steps)\n",
    "\n",
    "    # Update pool if using pattern pool\n",
    "    if trainer.use_pattern_pool and batch is not None:\n",
    "        batch.x[:] = x.detach().cpu().numpy()\n",
    "        batch.commit()\n",
    "\n",
    "    # Log loss\n",
    "    loss_log.append(loss.item())\n",
    "\n",
    "    # Visualize progress every 100 steps\n",
    "    if i % 100 == 0:\n",
    "        clear_output(wait=True)\n",
    "        print(f\"Epoch {i}/{n_epoch}, Loss: {loss.item():.6f}\")\n",
    "\n",
    "        # Visualize batch\n",
    "        vis0, vis1 = trainer.visualize_current_state()\n",
    "        visualize_batch(vis0, vis1)\n",
    "\n",
    "        # Plot loss history\n",
    "        plot_loss(loss_log)\n",
    "\n",
    "        # Save model\n",
    "        trainer.save_model()\n",
    "\n",
    "print(\"Training complete!\")"
   ]
  }
 ],
 "metadata": {
  "kernelspec": {
   "display_name": ".venv",
   "language": "python",
   "name": "python3"
  },
  "language_info": {
   "codemirror_mode": {
    "name": "ipython",
    "version": 3
   },
   "file_extension": ".py",
   "mimetype": "text/x-python",
   "name": "python",
   "nbconvert_exporter": "python",
   "pygments_lexer": "ipython3",
   "version": "3.13.4"
  }
 },
 "nbformat": 4,
 "nbformat_minor": 4
}
